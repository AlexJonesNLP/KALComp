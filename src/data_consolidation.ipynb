{
 "cells": [
  {
   "cell_type": "markdown",
   "id": "continuing-hunger",
   "metadata": {},
   "source": [
    "Alex Jones (alexander.g.jones.23@dartmouth.edu) <br>\n",
    "March 15, 2022 <br>\n",
    "LING 28 (Rolando Coto-Solano), Winter 2022 <br>\n",
    "Final Project\n",
    "\n",
    "\n",
    "---\n",
    "\n",
    "This notebook contains code for consolidating the crawled Kalaallisut and Danish data."
   ]
  },
  {
   "cell_type": "code",
   "execution_count": 32,
   "id": "quantitative-alias",
   "metadata": {},
   "outputs": [],
   "source": [
    "import os\n",
    "import typing"
   ]
  },
  {
   "cell_type": "code",
   "execution_count": 39,
   "id": "smaller-blast",
   "metadata": {},
   "outputs": [],
   "source": [
    "def consolidateData(directory: str) -> typing.List[str]:\n",
    "    '''\n",
    "    Purpose: Consolidate data from individual websites into a single file\n",
    "    \n",
    "    Args: \n",
    "    directory (str) -- folder where the files are stored\n",
    "    \n",
    "    Returns:\n",
    "    consolidated (list) -- list of consolidated sentences\n",
    "    '''\n",
    "    consolidated = []\n",
    "    for file in os.listdir(directory):\n",
    "        if file.split('.')[1]=='txt':\n",
    "            lines = open(directory+file, 'r').readlines()\n",
    "            consolidated.extend(lines)\n",
    "    return consolidated"
   ]
  },
  {
   "cell_type": "code",
   "execution_count": 40,
   "id": "specialized-calibration",
   "metadata": {},
   "outputs": [],
   "source": [
    "all_kl = list(set(consolidateData('../data/kl/')))\n",
    "all_da = list(set(consolidateData('../data/da/')))\n",
    "all_en = list(set(consolidateData('../data/en/')))"
   ]
  },
  {
   "cell_type": "code",
   "execution_count": 41,
   "id": "environmental-bonus",
   "metadata": {},
   "outputs": [
    {
     "name": "stdout",
     "output_type": "stream",
     "text": [
      "We currently have 93093 unique Kalaallisut sentences\n",
      "... 140802 unique Danish sentences\n",
      "... and 1439 unique English sentences\n"
     ]
    }
   ],
   "source": [
    "print(f'We currently have {len(all_kl)} unique Kalaallisut sentences')\n",
    "print(f'... {len(all_da)} unique Danish sentences')\n",
    "print(f'... and {len(all_en)} unique English sentences')"
   ]
  },
  {
   "cell_type": "code",
   "execution_count": 42,
   "id": "cardiac-detector",
   "metadata": {},
   "outputs": [],
   "source": [
    "open('../data/kl/mono.kl', 'w').writelines(all_kl) # write all sentences to file"
   ]
  },
  {
   "cell_type": "code",
   "execution_count": 37,
   "id": "fitted-summit",
   "metadata": {},
   "outputs": [],
   "source": [
    "open('../data/da/mono.da', 'w').writelines(all_da)"
   ]
  },
  {
   "cell_type": "code",
   "execution_count": 38,
   "id": "manual-apartment",
   "metadata": {},
   "outputs": [],
   "source": [
    "open('../data/en/mono.en', 'w').writelines(all_en)"
   ]
  }
 ],
 "metadata": {
  "kernelspec": {
   "display_name": "Python 3",
   "language": "python",
   "name": "python3"
  },
  "language_info": {
   "codemirror_mode": {
    "name": "ipython",
    "version": 3
   },
   "file_extension": ".py",
   "mimetype": "text/x-python",
   "name": "python",
   "nbconvert_exporter": "python",
   "pygments_lexer": "ipython3",
   "version": "3.9.2"
  }
 },
 "nbformat": 4,
 "nbformat_minor": 5
}
